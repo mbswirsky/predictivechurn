{
 "cells": [
  {
   "cell_type": "markdown",
   "metadata": {},
   "source": [
    "# Predicting User Churn"
   ]
  },
  {
   "cell_type": "markdown",
   "metadata": {
    "toc": true
   },
   "source": [
    "<h1>Table of Contents<span class=\"tocSkip\"></span></h1>\n",
    "<div class=\"toc\"><ul class=\"toc-item\"><li><span><a href=\"#Loading-Data\" data-toc-modified-id=\"Loading-Data-1\"><span class=\"toc-item-num\">1&nbsp;&nbsp;</span>Loading Data</a></span></li><li><span><a href=\"#Data-formatting\" data-toc-modified-id=\"Data-formatting-2\"><span class=\"toc-item-num\">2&nbsp;&nbsp;</span>Data formatting</a></span></li><li><span><a href=\"#Feature-engineering\" data-toc-modified-id=\"Feature-engineering-3\"><span class=\"toc-item-num\">3&nbsp;&nbsp;</span>Feature engineering</a></span></li><li><span><a href=\"#Data-Analysis\" data-toc-modified-id=\"Data-Analysis-4\"><span class=\"toc-item-num\">4&nbsp;&nbsp;</span>Data Analysis</a></span><ul class=\"toc-item\"><li><span><a href=\"#User-Churn\" data-toc-modified-id=\"User-Churn-4.1\"><span class=\"toc-item-num\">4.1&nbsp;&nbsp;</span>User Churn</a></span></li><li><span><a href=\"#Input-Features\" data-toc-modified-id=\"Input-Features-4.2\"><span class=\"toc-item-num\">4.2&nbsp;&nbsp;</span>Input Features</a></span></li></ul></li><li><span><a href=\"#Prep-for-modeling\" data-toc-modified-id=\"Prep-for-modeling-5\"><span class=\"toc-item-num\">5&nbsp;&nbsp;</span>Prep for modeling</a></span><ul class=\"toc-item\"><li><span><a href=\"#Feature-Selection\" data-toc-modified-id=\"Feature-Selection-5.1\"><span class=\"toc-item-num\">5.1&nbsp;&nbsp;</span>Feature Selection</a></span></li><li><span><a href=\"#Train/Test-Split\" data-toc-modified-id=\"Train/Test-Split-5.2\"><span class=\"toc-item-num\">5.2&nbsp;&nbsp;</span>Train/Test Split</a></span></li></ul></li><li><span><a href=\"#Classifier\" data-toc-modified-id=\"Classifier-6\"><span class=\"toc-item-num\">6&nbsp;&nbsp;</span>Classifier</a></span></li><li><span><a href=\"#Conclusions\" data-toc-modified-id=\"Conclusions-7\"><span class=\"toc-item-num\">7&nbsp;&nbsp;</span>Conclusions</a></span></li></ul></div>"
   ]
  },
  {
   "cell_type": "code",
   "execution_count": 319,
   "metadata": {
    "collapsed": true
   },
   "outputs": [],
   "source": [
    "import numpy as np\n",
    "import pandas as pd\n",
    "import matplotlib.pyplot as plt\n",
    "%matplotlib inline\n",
    "import seaborn as sns\n",
    "from IPython.display import display\n",
    "from time import time\n",
    "from datetime import datetime\n",
    "plt.style.use('seaborn')"
   ]
  },
  {
   "cell_type": "markdown",
   "metadata": {},
   "source": [
    "## Loading Data\n",
    "The \"data\" file contains individual login timestamps. I can use this data to find trends in usage behavior for each user over the test period.\n",
    "\n",
    "\"Target\" file contains information about each unique user. This includes our outcome variable, churn, indicating whether the user continued to use the app a month after the test period ended."
   ]
  },
  {
   "cell_type": "code",
   "execution_count": 320,
   "metadata": {},
   "outputs": [
    {
     "data": {
      "text/html": [
       "<div>\n",
       "<style scoped>\n",
       "    .dataframe tbody tr th:only-of-type {\n",
       "        vertical-align: middle;\n",
       "    }\n",
       "\n",
       "    .dataframe tbody tr th {\n",
       "        vertical-align: top;\n",
       "    }\n",
       "\n",
       "    .dataframe thead th {\n",
       "        text-align: right;\n",
       "    }\n",
       "</style>\n",
       "<table border=\"1\" class=\"dataframe\">\n",
       "  <thead>\n",
       "    <tr style=\"text-align: right;\">\n",
       "      <th></th>\n",
       "      <th>app</th>\n",
       "      <th>user</th>\n",
       "      <th>platform</th>\n",
       "      <th>ts</th>\n",
       "    </tr>\n",
       "  </thead>\n",
       "  <tbody>\n",
       "    <tr>\n",
       "      <th>0</th>\n",
       "      <td>Verified Ax</td>\n",
       "      <td>804f9d19-0988-4c5b-a6de-2cb39776ef60</td>\n",
       "      <td>ios</td>\n",
       "      <td>2015-06-01T00:01:05</td>\n",
       "    </tr>\n",
       "    <tr>\n",
       "      <th>1</th>\n",
       "      <td>MacGuffins, LLC</td>\n",
       "      <td>c6d3181b-b257-4122-80cc-e71c07669023</td>\n",
       "      <td>android</td>\n",
       "      <td>2015-06-01T00:12:17</td>\n",
       "    </tr>\n",
       "    <tr>\n",
       "      <th>2</th>\n",
       "      <td>Verified Ax</td>\n",
       "      <td>bc415f94-a2b2-4935-966b-1cda0f69eb1a</td>\n",
       "      <td>android</td>\n",
       "      <td>2015-06-01T00:13:05</td>\n",
       "    </tr>\n",
       "    <tr>\n",
       "      <th>3</th>\n",
       "      <td>MacGuffins, LLC</td>\n",
       "      <td>d3b12198-d1cf-4438-9fe7-19787c4cfacc</td>\n",
       "      <td>ios</td>\n",
       "      <td>2015-06-01T00:13:10</td>\n",
       "    </tr>\n",
       "    <tr>\n",
       "      <th>4</th>\n",
       "      <td>OnTheGo Cap'n</td>\n",
       "      <td>14873b91-a68d-4cbf-bceb-193c5180faae</td>\n",
       "      <td>android</td>\n",
       "      <td>2015-06-01T00:13:39</td>\n",
       "    </tr>\n",
       "  </tbody>\n",
       "</table>\n",
       "</div>"
      ],
      "text/plain": [
       "               app                                  user platform  \\\n",
       "0      Verified Ax  804f9d19-0988-4c5b-a6de-2cb39776ef60      ios   \n",
       "1  MacGuffins, LLC  c6d3181b-b257-4122-80cc-e71c07669023  android   \n",
       "2      Verified Ax  bc415f94-a2b2-4935-966b-1cda0f69eb1a  android   \n",
       "3  MacGuffins, LLC  d3b12198-d1cf-4438-9fe7-19787c4cfacc      ios   \n",
       "4    OnTheGo Cap'n  14873b91-a68d-4cbf-bceb-193c5180faae  android   \n",
       "\n",
       "                    ts  \n",
       "0  2015-06-01T00:01:05  \n",
       "1  2015-06-01T00:12:17  \n",
       "2  2015-06-01T00:13:05  \n",
       "3  2015-06-01T00:13:10  \n",
       "4  2015-06-01T00:13:39  "
      ]
     },
     "metadata": {},
     "output_type": "display_data"
    },
    {
     "name": "stdout",
     "output_type": "stream",
     "text": [
      "(71387, 4)\n"
     ]
    },
    {
     "data": {
      "text/html": [
       "<div>\n",
       "<style scoped>\n",
       "    .dataframe tbody tr th:only-of-type {\n",
       "        vertical-align: middle;\n",
       "    }\n",
       "\n",
       "    .dataframe tbody tr th {\n",
       "        vertical-align: top;\n",
       "    }\n",
       "\n",
       "    .dataframe thead th {\n",
       "        text-align: right;\n",
       "    }\n",
       "</style>\n",
       "<table border=\"1\" class=\"dataframe\">\n",
       "  <thead>\n",
       "    <tr style=\"text-align: right;\">\n",
       "      <th></th>\n",
       "      <th>app</th>\n",
       "      <th>user</th>\n",
       "      <th>platform</th>\n",
       "      <th>target</th>\n",
       "    </tr>\n",
       "  </thead>\n",
       "  <tbody>\n",
       "    <tr>\n",
       "      <th>0</th>\n",
       "      <td>Verified Ax</td>\n",
       "      <td>804f9d19-0988-4c5b-a6de-2cb39776ef60</td>\n",
       "      <td>ios</td>\n",
       "      <td>1</td>\n",
       "    </tr>\n",
       "    <tr>\n",
       "      <th>1</th>\n",
       "      <td>MacGuffins, LLC</td>\n",
       "      <td>c6d3181b-b257-4122-80cc-e71c07669023</td>\n",
       "      <td>android</td>\n",
       "      <td>1</td>\n",
       "    </tr>\n",
       "    <tr>\n",
       "      <th>2</th>\n",
       "      <td>Verified Ax</td>\n",
       "      <td>bc415f94-a2b2-4935-966b-1cda0f69eb1a</td>\n",
       "      <td>android</td>\n",
       "      <td>1</td>\n",
       "    </tr>\n",
       "    <tr>\n",
       "      <th>3</th>\n",
       "      <td>MacGuffins, LLC</td>\n",
       "      <td>d3b12198-d1cf-4438-9fe7-19787c4cfacc</td>\n",
       "      <td>ios</td>\n",
       "      <td>1</td>\n",
       "    </tr>\n",
       "    <tr>\n",
       "      <th>4</th>\n",
       "      <td>OnTheGo Cap'n</td>\n",
       "      <td>14873b91-a68d-4cbf-bceb-193c5180faae</td>\n",
       "      <td>android</td>\n",
       "      <td>0</td>\n",
       "    </tr>\n",
       "  </tbody>\n",
       "</table>\n",
       "</div>"
      ],
      "text/plain": [
       "               app                                  user platform  target\n",
       "0      Verified Ax  804f9d19-0988-4c5b-a6de-2cb39776ef60      ios       1\n",
       "1  MacGuffins, LLC  c6d3181b-b257-4122-80cc-e71c07669023  android       1\n",
       "2      Verified Ax  bc415f94-a2b2-4935-966b-1cda0f69eb1a  android       1\n",
       "3  MacGuffins, LLC  d3b12198-d1cf-4438-9fe7-19787c4cfacc      ios       1\n",
       "4    OnTheGo Cap'n  14873b91-a68d-4cbf-bceb-193c5180faae  android       0"
      ]
     },
     "metadata": {},
     "output_type": "display_data"
    },
    {
     "name": "stdout",
     "output_type": "stream",
     "text": [
      "(7527, 4)\n"
     ]
    }
   ],
   "source": [
    "data_filename = 'data.csv'\n",
    "target_filename = 'targets.csv'\n",
    "data = pd.read_csv(data_filename)\n",
    "target = pd.read_csv(target_filename)\n",
    "display(data.head())\n",
    "print(data.shape)\n",
    "display(target.head())\n",
    "print(target.shape)"
   ]
  },
  {
   "cell_type": "markdown",
   "metadata": {},
   "source": [
    "## Data formatting\n",
    "The first formatting to do is change string dates to datetime format. Then we extract time of day and day of week information.\n",
    "\n",
    "I set up the \"target\" dataframe with the user as index so I can pass feature columns from \"data\" to \"target\".\n",
    "\n",
    "Pandas \"weekday\" method defines Monday as 0, and the \"hour\" method starts 0 at midnight."
   ]
  },
  {
   "cell_type": "code",
   "execution_count": 321,
   "metadata": {
    "collapsed": true
   },
   "outputs": [],
   "source": [
    "data['ts'] = pd.to_datetime(data['ts'], infer_datetime_format=True)\n",
    "data['hour'] = data['ts'].dt.hour\n",
    "data['weekday'] = data['ts'].dt.weekday\n",
    "data['weekday_name'] = data['ts'].dt.weekday_name\n",
    "data_group_user = data.groupby('user', sort=False)"
   ]
  },
  {
   "cell_type": "code",
   "execution_count": 322,
   "metadata": {},
   "outputs": [
    {
     "data": {
      "text/html": [
       "<div>\n",
       "<style scoped>\n",
       "    .dataframe tbody tr th:only-of-type {\n",
       "        vertical-align: middle;\n",
       "    }\n",
       "\n",
       "    .dataframe tbody tr th {\n",
       "        vertical-align: top;\n",
       "    }\n",
       "\n",
       "    .dataframe thead th {\n",
       "        text-align: right;\n",
       "    }\n",
       "</style>\n",
       "<table border=\"1\" class=\"dataframe\">\n",
       "  <thead>\n",
       "    <tr style=\"text-align: right;\">\n",
       "      <th></th>\n",
       "      <th>app</th>\n",
       "      <th>user</th>\n",
       "      <th>platform</th>\n",
       "      <th>ts</th>\n",
       "      <th>hour</th>\n",
       "      <th>weekday</th>\n",
       "      <th>weekday_name</th>\n",
       "    </tr>\n",
       "  </thead>\n",
       "  <tbody>\n",
       "    <tr>\n",
       "      <th>0</th>\n",
       "      <td>Verified Ax</td>\n",
       "      <td>804f9d19-0988-4c5b-a6de-2cb39776ef60</td>\n",
       "      <td>ios</td>\n",
       "      <td>2015-06-01 00:01:05</td>\n",
       "      <td>0</td>\n",
       "      <td>0</td>\n",
       "      <td>Monday</td>\n",
       "    </tr>\n",
       "  </tbody>\n",
       "</table>\n",
       "</div>"
      ],
      "text/plain": [
       "           app                                  user platform  \\\n",
       "0  Verified Ax  804f9d19-0988-4c5b-a6de-2cb39776ef60      ios   \n",
       "\n",
       "                   ts  hour  weekday weekday_name  \n",
       "0 2015-06-01 00:01:05     0        0       Monday  "
      ]
     },
     "execution_count": 322,
     "metadata": {},
     "output_type": "execute_result"
    }
   ],
   "source": [
    "data.head(1)"
   ]
  },
  {
   "cell_type": "code",
   "execution_count": 323,
   "metadata": {},
   "outputs": [
    {
     "data": {
      "text/plain": [
       "Monday       11777\n",
       "Saturday     10981\n",
       "Sunday       10894\n",
       "Friday        9923\n",
       "Tuesday       9753\n",
       "Wednesday     9144\n",
       "Thursday      8915\n",
       "Name: weekday_name, dtype: int64"
      ]
     },
     "execution_count": 323,
     "metadata": {},
     "output_type": "execute_result"
    }
   ],
   "source": [
    "data['weekday_name'].value_counts()"
   ]
  },
  {
   "cell_type": "code",
   "execution_count": 324,
   "metadata": {
    "collapsed": true
   },
   "outputs": [],
   "source": [
    "if target.index.name != 'user':\n",
    "    target.set_index('user', inplace=True)\n",
    "target.rename(columns = {'target':'user_churned'}, inplace = True)"
   ]
  },
  {
   "cell_type": "markdown",
   "metadata": {},
   "source": [
    "## Feature engineering\n",
    "Aggregating whatever data I can from the \"data\" dataframe, grouped by user. I use the total count of app opens, the first and last open times, and the most likely time of day and day of week of open, and then make some binary features of whether the user opened the app in the first week, first month, and/or the last week. These features have been iterated over after doing some of the exploratory data analysis below.\n",
    "* Note: The median of an even set of numbers is the mean of the two center values; this is how I end up with 'open_day' of half-values. Those indicate that the median is directly between the two day values."
   ]
  },
  {
   "cell_type": "code",
   "execution_count": 325,
   "metadata": {
    "collapsed": true
   },
   "outputs": [],
   "source": [
    "target['open_count'] = data_group_user['ts'].count()\n",
    "target['first_open'] = data_group_user['ts'].min()\n",
    "target['last_open'] = data_group_user['ts'].max()\n",
    "target['open_time'] = data_group_user['hour'].median()\n",
    "target['open_day'] = data_group_user['weekday'].median()\n",
    "target['opened_in_first_week'] = np.where(target['first_open'] < datetime(2015, 6, 8), 1, 0)\n",
    "target['opened_in_first_month'] = np.where(target['first_open'] < datetime(2015, 7, 1), 1, 0)\n",
    "target['opened_in_last_week'] = np.where(target['last_open'] >= datetime(2015, 8, 25), 1, 0)"
   ]
  },
  {
   "cell_type": "code",
   "execution_count": 326,
   "metadata": {
    "scrolled": true
   },
   "outputs": [
    {
     "data": {
      "image/png": "[encoded data removed]",
      "text/plain": [
       "<Figure size 576x396 with 1 Axes>"
      ]
     },
     "metadata": {},
     "output_type": "display_data"
    }
   ],
   "source": [
    "plt.hist(target['open_day'], bins=13)\n",
    "plt.show()"
   ]
  },
  {
   "cell_type": "code",
   "execution_count": 327,
   "metadata": {},
   "outputs": [
    {
     "data": {
      "text/html": [
       "<div>\n",
       "<style scoped>\n",
       "    .dataframe tbody tr th:only-of-type {\n",
       "        vertical-align: middle;\n",
       "    }\n",
       "\n",
       "    .dataframe tbody tr th {\n",
       "        vertical-align: top;\n",
       "    }\n",
       "\n",
       "    .dataframe thead th {\n",
       "        text-align: right;\n",
       "    }\n",
       "</style>\n",
       "<table border=\"1\" class=\"dataframe\">\n",
       "  <thead>\n",
       "    <tr style=\"text-align: right;\">\n",
       "      <th></th>\n",
       "      <th>app</th>\n",
       "      <th>platform</th>\n",
       "      <th>user_churned</th>\n",
       "      <th>open_count</th>\n",
       "      <th>first_open</th>\n",
       "      <th>last_open</th>\n",
       "      <th>open_time</th>\n",
       "      <th>open_day</th>\n",
       "      <th>opened_in_first_week</th>\n",
       "      <th>opened_in_first_month</th>\n",
       "      <th>opened_in_last_week</th>\n",
       "    </tr>\n",
       "    <tr>\n",
       "      <th>user</th>\n",
       "      <th></th>\n",
       "      <th></th>\n",
       "      <th></th>\n",
       "      <th></th>\n",
       "      <th></th>\n",
       "      <th></th>\n",
       "      <th></th>\n",
       "      <th></th>\n",
       "      <th></th>\n",
       "      <th></th>\n",
       "      <th></th>\n",
       "    </tr>\n",
       "  </thead>\n",
       "  <tbody>\n",
       "    <tr>\n",
       "      <th>804f9d19-0988-4c5b-a6de-2cb39776ef60</th>\n",
       "      <td>Verified Ax</td>\n",
       "      <td>ios</td>\n",
       "      <td>1</td>\n",
       "      <td>6</td>\n",
       "      <td>2015-06-01 00:01:05</td>\n",
       "      <td>2015-07-26 17:41:45</td>\n",
       "      <td>9.0</td>\n",
       "      <td>5.0</td>\n",
       "      <td>1</td>\n",
       "      <td>1</td>\n",
       "      <td>0</td>\n",
       "    </tr>\n",
       "  </tbody>\n",
       "</table>\n",
       "</div>"
      ],
      "text/plain": [
       "                                              app platform  user_churned  \\\n",
       "user                                                                       \n",
       "804f9d19-0988-4c5b-a6de-2cb39776ef60  Verified Ax      ios             1   \n",
       "\n",
       "                                      open_count          first_open  \\\n",
       "user                                                                   \n",
       "804f9d19-0988-4c5b-a6de-2cb39776ef60           6 2015-06-01 00:01:05   \n",
       "\n",
       "                                               last_open  open_time  open_day  \\\n",
       "user                                                                            \n",
       "804f9d19-0988-4c5b-a6de-2cb39776ef60 2015-07-26 17:41:45        9.0       5.0   \n",
       "\n",
       "                                      opened_in_first_week  \\\n",
       "user                                                         \n",
       "804f9d19-0988-4c5b-a6de-2cb39776ef60                     1   \n",
       "\n",
       "                                      opened_in_first_month  \\\n",
       "user                                                          \n",
       "804f9d19-0988-4c5b-a6de-2cb39776ef60                      1   \n",
       "\n",
       "                                      opened_in_last_week  \n",
       "user                                                       \n",
       "804f9d19-0988-4c5b-a6de-2cb39776ef60                    0  "
      ]
     },
     "metadata": {},
     "output_type": "display_data"
    },
    {
     "name": "stdout",
     "output_type": "stream",
     "text": [
      "app                              object\n",
      "platform                         object\n",
      "user_churned                      int64\n",
      "open_count                        int64\n",
      "first_open               datetime64[ns]\n",
      "last_open                datetime64[ns]\n",
      "open_time                       float64\n",
      "open_day                        float64\n",
      "opened_in_first_week              int32\n",
      "opened_in_first_month             int32\n",
      "opened_in_last_week               int32\n",
      "dtype: object\n"
     ]
    }
   ],
   "source": [
    "display(target.head(1))\n",
    "print(target.dtypes)"
   ]
  },
  {
   "cell_type": "markdown",
   "metadata": {},
   "source": [
    "## Data Analysis"
   ]
  },
  {
   "cell_type": "markdown",
   "metadata": {},
   "source": [
    "### User Churn\n",
    "The first thing to check for is our classes of outcome variable."
   ]
  },
  {
   "cell_type": "code",
   "execution_count": 328,
   "metadata": {},
   "outputs": [
    {
     "data": {
      "image/png": "[encoded data removed]",
      "text/plain": [
       "<Figure size 576x396 with 1 Axes>"
      ]
     },
     "metadata": {},
     "output_type": "display_data"
    }
   ],
   "source": [
    "ax = sns.countplot(x='user_churned', data=target)\n",
    "ax.set_title('Total User Churn')\n",
    "plt.show()"
   ]
  },
  {
   "cell_type": "markdown",
   "metadata": {},
   "source": [
    "So we have some class imbalance here; not really enough to have to correct for it. Twice as many users stayed as left."
   ]
  },
  {
   "cell_type": "markdown",
   "metadata": {},
   "source": [
    "### Input Features\n",
    "The next step is to look at the ranges of our input features, separated by their correlation with the outcome classes. Here I show the distribution of the dates of first and last open, with the color indicating whether the user ended up churning or not: green designates the user as having churned, and blue as not."
   ]
  },
  {
   "cell_type": "code",
   "execution_count": 329,
   "metadata": {
    "scrolled": false
   },
   "outputs": [
    {
     "data": {
      "image/png": "[encoded data removed]",
      "text/plain": [
       "<Figure size 1080x360 with 2 Axes>"
      ]
     },
     "metadata": {},
     "output_type": "display_data"
    }
   ],
   "source": [
    "plt.figure(figsize=(15, 5))\n",
    "plt.subplot(121)\n",
    "plt.hist([target.loc[(target['user_churned'] == 0), 'first_open'].values, target.loc[(target['user_churned'] == 1), 'first_open'].values], bins=100, stacked=True)\n",
    "plt.xticks(rotation=90)\n",
    "plt.title('Date of First Open')\n",
    "plt.subplot(122)\n",
    "plt.hist([target.loc[(target['user_churned'] == 0), 'last_open'].values, target.loc[(target['user_churned'] == 1), 'last_open'].values], bins=100, stacked=True)\n",
    "plt.xticks(rotation=90)\n",
    "plt.title('Date of Last Open')\n",
    "plt.show()"
   ]
  },
  {
   "cell_type": "markdown",
   "metadata": {},
   "source": [
    "This dataset is skewed heavily toward people who started early and those who continued until near the end. Those are obviously not necessarily the same people, as is clear from the distribution of churned users in each plot.\n",
    "\n",
    "Churned users are concentrated in the first month of the \"First Open\" plot, and spread evenly across the \"Last Open\" plot, until about a week before the end of the test period. Most people who continued to use the app into the last week then kept using the app later.\n",
    "\n",
    "Additionally, people who last used the app during the first month were very likely to have churned already. Engineering a feature on that metric is highly likely to be predictive, but I think that will overfit our model. Since those users already churned, it is too related to our outcome variable to be explanatory."
   ]
  },
  {
   "cell_type": "code",
   "execution_count": 330,
   "metadata": {},
   "outputs": [
    {
     "data": {
      "image/png": "[encoded data removed]",
      "text/plain": [
       "<Figure size 1080x360 with 2 Axes>"
      ]
     },
     "metadata": {},
     "output_type": "display_data"
    }
   ],
   "source": [
    "plt.figure(figsize=(15, 5))\n",
    "plt.subplot(121)\n",
    "ax1 = sns.countplot(x='opened_in_first_month', hue='user_churned', data=target)\n",
    "ax1.set_title('Churn: User Opened in First Month')\n",
    "plt.subplot(122)\n",
    "ax2 = sns.countplot(x='opened_in_last_week', hue='user_churned', data=target)\n",
    "ax2.set_title('Churn: User Opened in Last Week')\n",
    "plt.show()"
   ]
  },
  {
   "cell_type": "markdown",
   "metadata": {},
   "source": [
    "This shows some stark contrast in user churn by first and last time opened. Users who first opened the app after the first month of the test period were far more likely to continue using it later. Less surprisingly, users who opened the app within the last week were also far less likely to churn later."
   ]
  },
  {
   "cell_type": "code",
   "execution_count": 331,
   "metadata": {},
   "outputs": [
    {
     "data": {
      "image/png": "[encoded data removed]",
      "text/plain": [
       "<Figure size 1080x360 with 2 Axes>"
      ]
     },
     "metadata": {},
     "output_type": "display_data"
    }
   ],
   "source": [
    "plt.figure(figsize=(15, 5))\n",
    "plt.subplot(121)\n",
    "ax = sns.violinplot(x='user_churned', y='open_time', data=target, bw=0.1)\n",
    "ax.set_title('Churn By Open Time')\n",
    "plt.subplot(122)\n",
    "ax = sns.countplot(x='open_day', hue='user_churned', data=target)\n",
    "ax.set_title('Churn By Open Day')\n",
    "plt.show()"
   ]
  },
  {
   "cell_type": "markdown",
   "metadata": {},
   "source": [
    "\"Open time\" and \"open day\" have slightly different distributions based on users' churn, but the predictive power doesn't appear to be very strong."
   ]
  },
  {
   "cell_type": "code",
   "execution_count": 332,
   "metadata": {},
   "outputs": [
    {
     "data": {
      "image/png": "[encoded data removed]",
      "text/plain": [
       "<Figure size 576x396 with 1 Axes>"
      ]
     },
     "metadata": {},
     "output_type": "display_data"
    }
   ],
   "source": [
    "ax = sns.violinplot(x='user_churned', y='open_count', data=target, bw=0.1)\n",
    "ax.set_title('Churn By Open Count')\n",
    "plt.show()"
   ]
  },
  {
   "cell_type": "markdown",
   "metadata": {},
   "source": [
    "The distributions of \"open count\" based on user churn are completely different, indicating that it should be highly predictive."
   ]
  },
  {
   "cell_type": "code",
   "execution_count": 333,
   "metadata": {},
   "outputs": [
    {
     "data": {
      "image/png": "[encoded data removed]",
      "text/plain": [
       "<Figure size 1080x360 with 2 Axes>"
      ]
     },
     "metadata": {},
     "output_type": "display_data"
    }
   ],
   "source": [
    "plt.figure(figsize=(15, 5))\n",
    "plt.subplot(121)\n",
    "ax = sns.countplot(x='platform', hue='user_churned', data=target)\n",
    "ax.set_title('Churn By Platform')\n",
    "plt.subplot(122)\n",
    "ax = sns.countplot(x='app', hue='user_churned', data=target)\n",
    "ax.set_title('Churn By App')\n",
    "plt.xticks(rotation=90)\n",
    "plt.show()"
   ]
  },
  {
   "cell_type": "markdown",
   "metadata": {},
   "source": [
    "Choice of app and platform don't appear to have much predictive power, and are much less interesting with respect to explanatory power as well, since we would ideally want to predict churn independent of platform or app."
   ]
  },
  {
   "cell_type": "markdown",
   "metadata": {},
   "source": [
    "## Prep for modeling"
   ]
  },
  {
   "cell_type": "code",
   "execution_count": 334,
   "metadata": {},
   "outputs": [
    {
     "data": {
      "text/plain": [
       "Index(['app', 'platform', 'user_churned', 'open_count', 'first_open',\n",
       "       'last_open', 'open_time', 'open_day', 'opened_in_first_week',\n",
       "       'opened_in_first_month', 'opened_in_last_week'],\n",
       "      dtype='object')"
      ]
     },
     "execution_count": 334,
     "metadata": {},
     "output_type": "execute_result"
    }
   ],
   "source": [
    "target.columns"
   ]
  },
  {
   "cell_type": "markdown",
   "metadata": {},
   "source": [
    "### Feature Selection\n",
    "I first modeled using all the features, but the random forest's \"feature importances\" indicated that \"open count\", \"opened in last week\", and \"opened in first month\" were much more important than the others. The second iteration used only those three features, increasing the stability of the cross validation scores."
   ]
  },
  {
   "cell_type": "code",
   "execution_count": 335,
   "metadata": {
    "collapsed": true
   },
   "outputs": [],
   "source": [
    "# This code slice causes the model to use all numeric features.\n",
    "\n",
    "# x1 = pd.get_dummies(target[['app', 'platform']])\n",
    "# x2 = target.drop(['user_churned', 'first_open', 'last_open', 'app', 'platform'], axis=1)\n",
    "# X = pd.concat([x1, x2], axis=1)"
   ]
  },
  {
   "cell_type": "code",
   "execution_count": 336,
   "metadata": {
    "collapsed": true
   },
   "outputs": [],
   "source": [
    "# This uses only the most important three features.\n",
    "\n",
    "X = target[['open_count', 'opened_in_last_week', 'opened_in_first_month']]\n",
    "Y = target['user_churned']"
   ]
  },
  {
   "cell_type": "markdown",
   "metadata": {},
   "source": [
    "### Train/Test Split\n",
    "This reduces the chance of overfitting by predicting only on a set-aside random slice of the data."
   ]
  },
  {
   "cell_type": "code",
   "execution_count": 337,
   "metadata": {
    "collapsed": true
   },
   "outputs": [],
   "source": [
    "from sklearn.model_selection import train_test_split\n",
    "X_train, X_test, Y_train, Y_test = train_test_split(X, Y, test_size=0.2)"
   ]
  },
  {
   "cell_type": "code",
   "execution_count": 338,
   "metadata": {},
   "outputs": [
    {
     "name": "stdout",
     "output_type": "stream",
     "text": [
      "(6021, 3) (1506, 3)\n"
     ]
    }
   ],
   "source": [
    "print(X_train.shape, X_test.shape)"
   ]
  },
  {
   "cell_type": "code",
   "execution_count": 339,
   "metadata": {},
   "outputs": [
    {
     "name": "stdout",
     "output_type": "stream",
     "text": [
      "0    4008\n",
      "1    2013\n",
      "Name: user_churned, dtype: int64\n",
      "0    1004\n",
      "1     502\n",
      "Name: user_churned, dtype: int64\n"
     ]
    }
   ],
   "source": [
    "print(Y_train.value_counts())\n",
    "print(Y_test.value_counts())"
   ]
  },
  {
   "cell_type": "markdown",
   "metadata": {},
   "source": [
    "## Classifier"
   ]
  },
  {
   "cell_type": "code",
   "execution_count": 340,
   "metadata": {},
   "outputs": [
    {
     "name": "stdout",
     "output_type": "stream",
     "text": [
      "Model fit runtime: 1.16 s\n",
      "CV runtime: 5.53 s\n"
     ]
    }
   ],
   "source": [
    "from sklearn.ensemble import RandomForestClassifier, GradientBoostingClassifier\n",
    "from sklearn.linear_model import LogisticRegression\n",
    "\n",
    "model_type = 'r'\n",
    "\n",
    "if (model_type == 'r'):\n",
    "    model = RandomForestClassifier(n_estimators=500, \n",
    "                                   max_depth=5, \n",
    "                                   max_features='auto', \n",
    "                                   min_samples_split=10)\n",
    "if (model_type == 'l'):\n",
    "    model = LogisticRegression(C=1.0, \n",
    "                               penalty='l1')\n",
    "if (model_type == 'g'):\n",
    "    model = GradientBoostingClassifier(n_estimators=200, \n",
    "                                       max_depth=5, \n",
    "                                       min_samples_split=10)\n",
    "\n",
    "\n",
    "t0 = time()\n",
    "model.fit(X_train, Y_train)\n",
    "print('Model fit runtime: {:.2f} s'.format(time()-t0))\n",
    "\n",
    "from sklearn.model_selection import cross_val_score\n",
    "t0 = time()\n",
    "cv = cross_val_score(model, X_train, Y_train, cv=5)\n",
    "print('CV runtime: {:.2f} s'.format(time()-t0))"
   ]
  },
  {
   "cell_type": "code",
   "execution_count": 343,
   "metadata": {},
   "outputs": [
    {
     "name": "stdout",
     "output_type": "stream",
     "text": [
      "Training set score: 81.07%\n",
      "\n",
      "Cross validation score: 81.02% ± 1.55%\n",
      "\n",
      "[0.7966805  0.806639   0.81576763 0.81795511 0.81379884]\n",
      "\n",
      "Test set score: 80.74%\n"
     ]
    },
    {
     "data": {
      "text/html": [
       "<div>\n",
       "<style scoped>\n",
       "    .dataframe tbody tr th:only-of-type {\n",
       "        vertical-align: middle;\n",
       "    }\n",
       "\n",
       "    .dataframe tbody tr th {\n",
       "        vertical-align: top;\n",
       "    }\n",
       "\n",
       "    .dataframe thead th {\n",
       "        text-align: right;\n",
       "    }\n",
       "</style>\n",
       "<table border=\"1\" class=\"dataframe\">\n",
       "  <thead>\n",
       "    <tr style=\"text-align: right;\">\n",
       "      <th>Predicted Churn</th>\n",
       "      <th>0</th>\n",
       "      <th>1</th>\n",
       "    </tr>\n",
       "    <tr>\n",
       "      <th>Actual Churn</th>\n",
       "      <th></th>\n",
       "      <th></th>\n",
       "    </tr>\n",
       "  </thead>\n",
       "  <tbody>\n",
       "    <tr>\n",
       "      <th>0</th>\n",
       "      <td>856</td>\n",
       "      <td>148</td>\n",
       "    </tr>\n",
       "    <tr>\n",
       "      <th>1</th>\n",
       "      <td>142</td>\n",
       "      <td>360</td>\n",
       "    </tr>\n",
       "  </tbody>\n",
       "</table>\n",
       "</div>"
      ],
      "text/plain": [
       "Predicted Churn    0    1\n",
       "Actual Churn             \n",
       "0                856  148\n",
       "1                142  360"
      ]
     },
     "metadata": {},
     "output_type": "display_data"
    },
    {
     "name": "stdout",
     "output_type": "stream",
     "text": [
      "False Positive (Type I Error): 148 (14.7%)\n",
      "False Negative (Type II Error): 142 (28.3%)\n"
     ]
    },
    {
     "data": {
      "text/html": [
       "<div>\n",
       "<style scoped>\n",
       "    .dataframe tbody tr th:only-of-type {\n",
       "        vertical-align: middle;\n",
       "    }\n",
       "\n",
       "    .dataframe tbody tr th {\n",
       "        vertical-align: top;\n",
       "    }\n",
       "\n",
       "    .dataframe thead th {\n",
       "        text-align: right;\n",
       "    }\n",
       "</style>\n",
       "<table border=\"1\" class=\"dataframe\">\n",
       "  <thead>\n",
       "    <tr style=\"text-align: right;\">\n",
       "      <th></th>\n",
       "      <th>Importances</th>\n",
       "    </tr>\n",
       "  </thead>\n",
       "  <tbody>\n",
       "    <tr>\n",
       "      <th>open_count</th>\n",
       "      <td>0.54</td>\n",
       "    </tr>\n",
       "    <tr>\n",
       "      <th>opened_in_last_week</th>\n",
       "      <td>0.27</td>\n",
       "    </tr>\n",
       "    <tr>\n",
       "      <th>opened_in_first_month</th>\n",
       "      <td>0.19</td>\n",
       "    </tr>\n",
       "  </tbody>\n",
       "</table>\n",
       "</div>"
      ],
      "text/plain": [
       "                       Importances\n",
       "open_count                    0.54\n",
       "opened_in_last_week           0.27\n",
       "opened_in_first_month         0.19"
      ]
     },
     "metadata": {},
     "output_type": "display_data"
    }
   ],
   "source": [
    "score_train = model.score(X_train, Y_train)\n",
    "score_test = model.score(X_test, Y_test)\n",
    "\n",
    "print('Training set score: {:.2%}'.format(score_train))\n",
    "plusminus = u\"\\u00B1\"\n",
    "print('\\nCross validation score: {:.2%} {} {:.2%}\\n\\n{}'.format(cv.mean(), plusminus, cv.std()*2, cv))\n",
    "print('\\nTest set score: {:.2%}'.format(score_test))\n",
    "\n",
    "from sklearn.metrics import confusion_matrix\n",
    "Y_pred = model.predict(X_test)\n",
    "test_cm = pd.DataFrame(confusion_matrix(Y_test, Y_pred))\n",
    "test_cm.index.name = 'Actual Churn'\n",
    "test_cm.columns.name = 'Predicted Churn'\n",
    "display(test_cm)\n",
    "\n",
    "FP = test_cm.loc[0, 1]\n",
    "FN = test_cm.loc[1, 0]\n",
    "TotP = test_cm.loc[1].sum()\n",
    "TotN = test_cm.loc[0].sum()\n",
    "\n",
    "print('False Positive (Type I Error): {} ({:.1%})'.format(FP, FP / TotN))\n",
    "print('False Negative (Type II Error): {} ({:.1%})'.format(FN, FN / TotP))\n",
    "\n",
    "if model_type == 'r' or 'g':\n",
    "    feature_importances = pd.DataFrame(model.feature_importances_.round(2), X_train.columns, columns=[\"Importances\"])\n",
    "    display(feature_importances.sort_values('Importances', ascending=False))"
   ]
  },
  {
   "cell_type": "markdown",
   "metadata": {
    "collapsed": true
   },
   "source": [
    "## Conclusions"
   ]
  },
  {
   "cell_type": "markdown",
   "metadata": {},
   "source": [
    "The first evaluation of a model is overfitting to the training set. This model is pretty stable across the five cross validation folds, where each one-fifth is set aside to test each four-fifths training set on. The test set score is not much lower than that of the training set, so I would say this model is not overfitting. The iteration with more features did overfit a little.\n",
    "\n",
    "The error rate is approximately 19%, but the error can be separated into Type I, or false positives, and Type II, or false negatives. The false positive rate is 15%, and the false negative rate is 28%. The absolute number of errors of either sort is the same, but since the true positive class is half the size of the false positive, it makes the rates different respectively.\n",
    "\n",
    "The total open count was the most important feature, leading me to want to follow this up with studying the time-distribution of the app opens. For this project, I reduced user behavior to a set of summary statistics, but with more time I would look deeper into trends of usage.\n",
    "\n",
    "I am showing only the final results; I tried a gradient boosting classifier and a logistic regression model as well, but the logistic model had lower accuracy and the gradient boosting model overfit the data set."
   ]
  },
  {
   "cell_type": "code",
   "execution_count": null,
   "metadata": {
    "collapsed": true
   },
   "outputs": [],
   "source": []
  }
 ],
 "metadata": {
  "kernelspec": {
   "display_name": "Python 3",
   "language": "python",
   "name": "python3"
  },
  "language_info": {
   "codemirror_mode": {
    "name": "ipython",
    "version": 3
   },
   "file_extension": ".py",
   "mimetype": "text/x-python",
   "name": "python",
   "nbconvert_exporter": "python",
   "pygments_lexer": "ipython3",
   "version": "3.6.5"
  },
  "toc": {
   "base_numbering": 1,
   "nav_menu": {},
   "number_sections": true,
   "sideBar": true,
   "skip_h1_title": true,
   "title_cell": "Table of Contents",
   "title_sidebar": "Contents",
   "toc_cell": true,
   "toc_position": {
    "height": "calc(100% - 180px)",
    "left": "10px",
    "top": "150px",
    "width": "395px"
   },
   "toc_section_display": true,
   "toc_window_display": true
  },
  "varInspector": {
   "cols": {
    "lenName": 16,
    "lenType": 16,
    "lenVar": 40
   },
   "kernels_config": {
    "python": {
     "delete_cmd_postfix": "",
     "delete_cmd_prefix": "del ",
     "library": "var_list.py",
     "varRefreshCmd": "print(var_dic_list())"
    },
    "r": {
     "delete_cmd_postfix": ") ",
     "delete_cmd_prefix": "rm(",
     "library": "var_list.r",
     "varRefreshCmd": "cat(var_dic_list()) "
    }
   },
   "types_to_exclude": [
    "module",
    "function",
    "builtin_function_or_method",
    "instance",
    "_Feature"
   ],
   "window_display": false
  }
 },
 "nbformat": 4,
 "nbformat_minor": 2
}
